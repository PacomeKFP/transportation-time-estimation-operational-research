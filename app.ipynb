{
 "cells": [
  {
   "cell_type": "code",
   "execution_count": 1,
   "id": "abe84aa5",
   "metadata": {},
   "outputs": [],
   "source": [
    "from app.models.intersection import Intersection\n",
    "from app.models.edge import Edge\n",
    "from app.models.chunk import Chunk\n",
    "from app.models.tdg import TDG\n",
    "\n",
    "import numpy as np\n",
    "\n",
    "# Création de nouvelles intersections\n",
    "i1 = Intersection(\"depot\")\n",
    "i2 = Intersection(\"carrefour\")\n",
    "i3 = Intersection(\"chantier\")\n",
    "i4 = Intersection(\"rond-point\")\n",
    "i5 = Intersection(\"zone_industrielle\")\n",
    "i6 = Intersection(\"gare\")\n",
    "i7 = Intersection(\"centre_ville\")\n",
    "i8 = Intersection(\"entrepot\")\n",
    "i9 = Intersection(\"sortie_ville\")\n",
    "i10 = Intersection(\"depot2\")\n",
    "\n",
    "# Création de nombreux arcs (edges) avec des segments (chunks)\n",
    "edges = {\n",
    "    Edge(i1, i2, [Chunk(5.0), Chunk(3.0), Chunk(2.5)]),\n",
    "    Edge(i2, i3, [Chunk(2.5), Chunk(1.2)]),\n",
    "    Edge(i1, i4, [Chunk(4.0), Chunk(2.0), Chunk(1.5)]),\n",
    "    Edge(i4, i5, [Chunk(2.0), Chunk(1.5), Chunk(2.3)]),\n",
    "    Edge(i5, i3, [Chunk(3.5), Chunk(2.1)]),\n",
    "    Edge(i2, i6, [Chunk(2.2), Chunk(1.8), Chunk(2.0)]),\n",
    "    Edge(i6, i7, [Chunk(1.8), Chunk(2.0), Chunk(1.1)]),\n",
    "    Edge(i7, i3, [Chunk(2.7), Chunk(1.4)]),\n",
    "    Edge(i4, i8, [Chunk(3.0), Chunk(2.2)]),\n",
    "    Edge(i8, i9, [Chunk(2.5), Chunk(1.7), Chunk(2.8)]),\n",
    "    Edge(i9, i3, [Chunk(4.2), Chunk(2.0)]),\n",
    "    Edge(i10, i2, [Chunk(4.0), Chunk(2.5)]),\n",
    "    Edge(i10, i4, [Chunk(3.5), Chunk(1.8), Chunk(2.2)]),\n",
    "    Edge(i8, i1, [Chunk(5.0), Chunk(2.5)]),\n",
    "    Edge(i5, i7, [Chunk(2.0), Chunk(1.3), Chunk(2.6)]),\n",
    "    Edge(i6, i9, [Chunk(3.3), Chunk(2.1)]),\n",
    "    Edge(i2, i5, [Chunk(2.8), Chunk(1.9)]),\n",
    "    Edge(i7, i8, [Chunk(1.2), Chunk(2.4)]),\n",
    "    Edge(i9, i10, [Chunk(2.6), Chunk(1.5), Chunk(2.0)]),\n",
    "    Edge(i4, i6, [Chunk(2.4), Chunk(1.7)]),\n",
    "    Edge(i1, i5, [Chunk(3.2), Chunk(2.1), Chunk(1.8)]),\n",
    "    Edge(i3, i8, [Chunk(2.9), Chunk(1.6), Chunk(2.3)]),\n",
    "    Edge(i5, i9, [Chunk(2.7), Chunk(2.2)]),\n",
    "    Edge(i2, i8, [Chunk(3.1), Chunk(1.5), Chunk(2.0)]),\n",
    "    Edge(i6, i3, [Chunk(2.8), Chunk(1.9)]),\n",
    "    Edge(i7, i10, [Chunk(2.5), Chunk(2.2), Chunk(1.7)]),\n",
    "    Edge(i8, i4, [Chunk(2.6), Chunk(1.8)]),\n",
    "    Edge(i9, i7, [Chunk(3.0), Chunk(2.1), Chunk(1.5)]),\n",
    "    Edge(i10, i5, [Chunk(2.3), Chunk(2.7)]),\n",
    "    Edge(i3, i6, [Chunk(2.2), Chunk(1.4), Chunk(2.5)]),\n",
    "}\n",
    "\n",
    "\n",
    "# Fonction de poids (exemple simplifié)\n",
    "def simple_weight(edge: Edge, time: float) -> float:\n",
    "    base_time = sum(chunk.length for chunk in edge.chunks)\n",
    "    # Facteur de congestion selon l'heure\n",
    "    congestion = 1.0 + 0.5 * np.sin(np.pi * time / 12)  # Max congestion à midi\n",
    "    return base_time * congestion\n",
    "\n",
    "# Création du graphe complexe\n",
    "graph = TDG(\n",
    "    intersections={i1, i2, i3, i4, i5, i6, i7, i8, i9, i10},\n",
    "    edges=edges,\n",
    "    weight_function=simple_weight\n",
    ")\n"
   ]
  },
  {
   "cell_type": "code",
   "execution_count": 2,
   "id": "cdb4830d",
   "metadata": {},
   "outputs": [
    {
     "name": "stdout",
     "output_type": "stream",
     "text": [
      "Attention: Le graphe n'est pas FIFO. L'algorithme peut ne pas être optimal.\n"
     ]
    },
    {
     "ename": "TypeError",
     "evalue": "'<' not supported between instances of 'Intersection' and 'Intersection'",
     "output_type": "error",
     "traceback": [
      "\u001b[31m---------------------------------------------------------------------------\u001b[39m",
      "\u001b[31mTypeError\u001b[39m                                 Traceback (most recent call last)",
      "\u001b[36mCell\u001b[39m\u001b[36m \u001b[39m\u001b[32mIn[2]\u001b[39m\u001b[32m, line 5\u001b[39m\n\u001b[32m      2\u001b[39m \u001b[38;5;28;01mfrom\u001b[39;00m\u001b[38;5;250m \u001b[39m\u001b[34;01mapp\u001b[39;00m\u001b[34;01m.\u001b[39;00m\u001b[34;01msolvers\u001b[39;00m\u001b[34;01m.\u001b[39;00m\u001b[34;01mtwo_step_ltt_2008_solver\u001b[39;00m\u001b[38;5;250m \u001b[39m\u001b[38;5;28;01mimport\u001b[39;00m TwoStepLTT2008Solver\n\u001b[32m      4\u001b[39m \u001b[38;5;66;03m# Résoudre le problème\u001b[39;00m\n\u001b[32m----> \u001b[39m\u001b[32m5\u001b[39m result = \u001b[43mTwoStepLTT2008Solver\u001b[49m\u001b[43m.\u001b[49m\u001b[43msolve\u001b[49m\u001b[43m(\u001b[49m\n\u001b[32m      6\u001b[39m \u001b[43m    \u001b[49m\u001b[43mtdg\u001b[49m\u001b[43m=\u001b[49m\u001b[43mgraph\u001b[49m\u001b[43m,\u001b[49m\n\u001b[32m      7\u001b[39m \u001b[43m    \u001b[49m\u001b[43msource\u001b[49m\u001b[43m=\u001b[49m\u001b[43mi2\u001b[49m\u001b[43m,\u001b[49m\n\u001b[32m      8\u001b[39m \u001b[43m    \u001b[49m\u001b[43mdestination\u001b[49m\u001b[43m=\u001b[49m\u001b[43mi10\u001b[49m\u001b[43m,\u001b[49m\n\u001b[32m      9\u001b[39m \u001b[43m    \u001b[49m\u001b[43mtime_window\u001b[49m\u001b[43m=\u001b[49m\u001b[43m(\u001b[49m\u001b[32;43m0\u001b[39;49m\u001b[43m,\u001b[49m\u001b[43m \u001b[49m\u001b[32;43m24\u001b[39;49m\u001b[43m)\u001b[49m\u001b[43m  \u001b[49m\u001b[38;5;66;43;03m# 24 heures\u001b[39;49;00m\n\u001b[32m     10\u001b[39m \u001b[43m)\u001b[49m\n\u001b[32m     12\u001b[39m \u001b[38;5;28mprint\u001b[39m(\u001b[33mf\u001b[39m\u001b[33m\"\u001b[39m\u001b[33mMeilleur départ : \u001b[39m\u001b[38;5;132;01m{\u001b[39;00mresult.t_star\u001b[38;5;132;01m}\u001b[39;00m\u001b[33mh\u001b[39m\u001b[33m\"\u001b[39m)\n\u001b[32m     13\u001b[39m \u001b[38;5;28mprint\u001b[39m(\u001b[33mf\u001b[39m\u001b[33m\"\u001b[39m\u001b[33mCoût total : \u001b[39m\u001b[38;5;132;01m{\u001b[39;00mresult.total_cost\u001b[38;5;132;01m:\u001b[39;00m\u001b[33m.2f\u001b[39m\u001b[38;5;132;01m}\u001b[39;00m\u001b[33m\"\u001b[39m)\n",
      "\u001b[36mFile \u001b[39m\u001b[32mc:\\workspace\\clients\\transportation-time-estimation-operational-research\\app\\solvers\\two_step_ltt_2008_solver.py:287\u001b[39m, in \u001b[36mTwoStepLTT2008Solver.solve\u001b[39m\u001b[34m(tdg, source, destination, time_window)\u001b[39m\n\u001b[32m    284\u001b[39m     \u001b[38;5;28mprint\u001b[39m(\u001b[33m\"\u001b[39m\u001b[33mAttention: Le graphe n\u001b[39m\u001b[33m'\u001b[39m\u001b[33mest pas FIFO. L\u001b[39m\u001b[33m'\u001b[39m\u001b[33malgorithme peut ne pas être optimal.\u001b[39m\u001b[33m\"\u001b[39m)\n\u001b[32m    286\u001b[39m \u001b[38;5;66;03m# Étape 1: Time Refinement (ligne 1)\u001b[39;00m\n\u001b[32m--> \u001b[39m\u001b[32m287\u001b[39m g_functions = \u001b[43mTwoStepLTT2008Solver\u001b[49m\u001b[43m.\u001b[49m\u001b[43mtimeRefinement\u001b[49m\u001b[43m(\u001b[49m\u001b[43mtdg\u001b[49m\u001b[43m,\u001b[49m\u001b[43m \u001b[49m\u001b[43msource\u001b[49m\u001b[43m,\u001b[49m\u001b[43m \u001b[49m\u001b[43mdestination\u001b[49m\u001b[43m,\u001b[49m\u001b[43m \u001b[49m\u001b[43mtime_window\u001b[49m\u001b[43m)\u001b[49m\n\u001b[32m    289\u001b[39m \u001b[38;5;66;03m# Vérification de l'atteignabilité (ligne 2)\u001b[39;00m\n\u001b[32m    290\u001b[39m g_e = g_functions[destination]\n",
      "\u001b[36mFile \u001b[39m\u001b[32mc:\\workspace\\clients\\transportation-time-estimation-operational-research\\app\\solvers\\two_step_ltt_2008_solver.py:100\u001b[39m, in \u001b[36mTwoStepLTT2008Solver.timeRefinement\u001b[39m\u001b[34m(tdg, source, destination, time_interval)\u001b[39m\n\u001b[32m     98\u001b[39m \u001b[38;5;28;01mfor\u001b[39;00m node \u001b[38;5;129;01min\u001b[39;00m tdg.intersections:\n\u001b[32m     99\u001b[39m     priority = g[node](tau[node])\n\u001b[32m--> \u001b[39m\u001b[32m100\u001b[39m     heapq.heappush(Q, (priority, tau[node], node, g[node]))\n\u001b[32m    102\u001b[39m \u001b[38;5;66;03m# Boucle principale (lignes 5-19)\u001b[39;00m\n\u001b[32m    103\u001b[39m \u001b[38;5;28;01mwhile\u001b[39;00m \u001b[38;5;28mlen\u001b[39m(Q) >= \u001b[32m2\u001b[39m:\n\u001b[32m    104\u001b[39m     \u001b[38;5;66;03m# Dequeue le nœud avec la plus petite arrivée (ligne 6)\u001b[39;00m\n",
      "\u001b[31mTypeError\u001b[39m: '<' not supported between instances of 'Intersection' and 'Intersection'"
     ]
    }
   ],
   "source": [
    "from app.solvers.orda_rom_solver import OrdaRomSolver\n",
    "from app.solvers.two_step_ltt_2008_solver import TwoStepLTT2008Solver\n",
    "\n",
    "# Résoudre le problème\n",
    "result = TwoStepLTT2008Solver.solve(\n",
    "    tdg=graph,\n",
    "    source=i2,\n",
    "    destination=i10,\n",
    "    time_window=(0, 24)  # 24 heures\n",
    ")\n",
    "\n",
    "print(f\"Meilleur départ : {result.t_star}h\")\n",
    "print(f\"Coût total : {result.total_cost:.2f}\")\n",
    "if result.path:\n",
    "    print(f\"Chemin : {[(e.origin.name, e.extremity.name) for e in result.path.edges]}\")"
   ]
  },
  {
   "cell_type": "code",
   "execution_count": null,
   "id": "8ca7d4b5",
   "metadata": {},
   "outputs": [
    {
     "ename": "NameError",
     "evalue": "name 'Callable' is not defined",
     "output_type": "error",
     "traceback": [
      "\u001b[31m---------------------------------------------------------------------------\u001b[39m",
      "\u001b[31mNameError\u001b[39m                                 Traceback (most recent call last)",
      "\u001b[36mCell\u001b[39m\u001b[36m \u001b[39m\u001b[32mIn[3]\u001b[39m\u001b[32m, line 1\u001b[39m\n\u001b[32m----> \u001b[39m\u001b[32m1\u001b[39m \u001b[38;5;28;01mfrom\u001b[39;00m\u001b[38;5;250m \u001b[39m\u001b[34;01mapp\u001b[39;00m\u001b[34;01m.\u001b[39;00m\u001b[34;01mmain_application\u001b[39;00m\u001b[38;5;250m \u001b[39m\u001b[38;5;28;01mimport\u001b[39;00m MainApplication\n\u001b[32m      2\u001b[39m \u001b[38;5;28;01mfrom\u001b[39;00m\u001b[38;5;250m \u001b[39m\u001b[34;01mapp\u001b[39;00m\u001b[34;01m.\u001b[39;00m\u001b[34;01mmodels\u001b[39;00m\u001b[34;01m.\u001b[39;00m\u001b[34;01mprovider\u001b[39;00m\u001b[38;5;250m \u001b[39m\u001b[38;5;28;01mimport\u001b[39;00m Provider\n\u001b[32m      4\u001b[39m \u001b[38;5;66;03m# Créer les fournisseurs\u001b[39;00m\n",
      "\u001b[36mFile \u001b[39m\u001b[32mc:\\workspace\\clients\\transportation-time-estimation-operational-research\\app\\main_application.py:11\u001b[39m\n\u001b[32m      9\u001b[39m \u001b[38;5;28;01mfrom\u001b[39;00m\u001b[38;5;250m \u001b[39m\u001b[34;01mapp\u001b[39;00m\u001b[34;01m.\u001b[39;00m\u001b[34;01msolvers\u001b[39;00m\u001b[34;01m.\u001b[39;00m\u001b[34;01mobject_orda\u001b[39;00m\u001b[38;5;250m \u001b[39m\u001b[38;5;28;01mimport\u001b[39;00m ObjectOrdaSolver\n\u001b[32m     10\u001b[39m \u001b[38;5;28;01mfrom\u001b[39;00m\u001b[38;5;250m \u001b[39m\u001b[34;01mapp\u001b[39;00m\u001b[34;01m.\u001b[39;00m\u001b[34;01msolvers\u001b[39;00m\u001b[34;01m.\u001b[39;00m\u001b[34;01morda_rom_solver\u001b[39;00m\u001b[38;5;250m \u001b[39m\u001b[38;5;28;01mimport\u001b[39;00m OrdaRomSolver\n\u001b[32m---> \u001b[39m\u001b[32m11\u001b[39m \u001b[38;5;28;01mfrom\u001b[39;00m\u001b[38;5;250m \u001b[39m\u001b[34;01mapp\u001b[39;00m\u001b[34;01m.\u001b[39;00m\u001b[34;01msolvers\u001b[39;00m\u001b[34;01m.\u001b[39;00m\u001b[34;01mtwo_step_ltt_2008_solver\u001b[39;00m\u001b[38;5;250m \u001b[39m\u001b[38;5;28;01mimport\u001b[39;00m TwoStepLTT2008Solver\n\u001b[32m     15\u001b[39m \u001b[38;5;129m@dataclass\u001b[39m\n\u001b[32m     16\u001b[39m \u001b[38;5;28;01mclass\u001b[39;00m\u001b[38;5;250m \u001b[39m\u001b[34;01mMainApplication\u001b[39;00m:\n\u001b[32m     17\u001b[39m     providers: List[Provider]\n",
      "\u001b[36mFile \u001b[39m\u001b[32mc:\\workspace\\clients\\transportation-time-estimation-operational-research\\app\\solvers\\two_step_ltt_2008_solver.py:26\u001b[39m\n\u001b[32m     22\u001b[39m \u001b[38;5;28;01mfrom\u001b[39;00m\u001b[38;5;250m \u001b[39m\u001b[34;01mapp\u001b[39;00m\u001b[34;01m.\u001b[39;00m\u001b[34;01mmodels\u001b[39;00m\u001b[34;01m.\u001b[39;00m\u001b[34;01mpath\u001b[39;00m\u001b[38;5;250m \u001b[39m\u001b[38;5;28;01mimport\u001b[39;00m Path\n\u001b[32m     23\u001b[39m \u001b[38;5;28;01mfrom\u001b[39;00m\u001b[38;5;250m \u001b[39m\u001b[34;01mapp\u001b[39;00m\u001b[34;01m.\u001b[39;00m\u001b[34;01mconstants\u001b[39;00m\u001b[38;5;250m \u001b[39m\u001b[38;5;28;01mimport\u001b[39;00m INFINITY\n\u001b[32m---> \u001b[39m\u001b[32m26\u001b[39m \u001b[38;5;28;43;01mclass\u001b[39;49;00m\u001b[38;5;250;43m \u001b[39;49m\u001b[34;43;01mTwoStepLTT2008Solver\u001b[39;49;00m\u001b[43m:\u001b[49m\n\u001b[32m     27\u001b[39m \u001b[38;5;250;43m    \u001b[39;49m\u001b[33;43;03m\"\"\"\u001b[39;49;00m\n\u001b[32m     28\u001b[39m \u001b[33;43;03m    Implémentation fidèle de l'algorithme TWO-STEP-LTT de Ding et al. (2008)\u001b[39;49;00m\n\u001b[32m     29\u001b[39m \u001b[33;43;03m    \"\"\"\u001b[39;49;00m\n\u001b[32m     31\u001b[39m \u001b[43m    \u001b[49m\u001b[38;5;129;43m@staticmethod\u001b[39;49m\n\u001b[32m     32\u001b[39m \u001b[43m    \u001b[49m\u001b[38;5;28;43;01mdef\u001b[39;49;00m\u001b[38;5;250;43m \u001b[39;49m\u001b[34;43m_is_fifo_graph\u001b[39;49m\u001b[43m(\u001b[49m\u001b[43mtdg\u001b[49m\u001b[43m:\u001b[49m\u001b[43m \u001b[49m\u001b[43mTDG\u001b[49m\u001b[43m,\u001b[49m\u001b[43m \u001b[49m\u001b[43mtime_domain\u001b[49m\u001b[43m:\u001b[49m\u001b[43m \u001b[49m\u001b[43mTuple\u001b[49m\u001b[43m[\u001b[49m\u001b[38;5;28;43mfloat\u001b[39;49m\u001b[43m,\u001b[49m\u001b[43m \u001b[49m\u001b[38;5;28;43mfloat\u001b[39;49m\u001b[43m]\u001b[49m\u001b[43m)\u001b[49m\u001b[43m \u001b[49m\u001b[43m-\u001b[49m\u001b[43m>\u001b[49m\u001b[43m \u001b[49m\u001b[38;5;28;43mbool\u001b[39;49m\u001b[43m:\u001b[49m\n",
      "\u001b[36mFile \u001b[39m\u001b[32mc:\\workspace\\clients\\transportation-time-estimation-operational-research\\app\\solvers\\two_step_ltt_2008_solver.py:64\u001b[39m, in \u001b[36mTwoStepLTT2008Solver\u001b[39m\u001b[34m()\u001b[39m\n\u001b[32m     57\u001b[39m                         \u001b[38;5;28;01mreturn\u001b[39;00m \u001b[38;5;28;01mFalse\u001b[39;00m\n\u001b[32m     58\u001b[39m     \u001b[38;5;28;01mreturn\u001b[39;00m \u001b[38;5;28;01mTrue\u001b[39;00m\n\u001b[32m     60\u001b[39m \u001b[38;5;129m@staticmethod\u001b[39m\n\u001b[32m     61\u001b[39m \u001b[38;5;28;01mdef\u001b[39;00m\u001b[38;5;250m \u001b[39m\u001b[34mtimeRefinement\u001b[39m(tdg: TDG, \n\u001b[32m     62\u001b[39m                   source: Intersection, \n\u001b[32m     63\u001b[39m                   destination: Intersection,\n\u001b[32m---> \u001b[39m\u001b[32m64\u001b[39m                   time_interval: Tuple[\u001b[38;5;28mfloat\u001b[39m, \u001b[38;5;28mfloat\u001b[39m]) -> Dict[Intersection, \u001b[43mCallable\u001b[49m[[\u001b[38;5;28mfloat\u001b[39m], \u001b[38;5;28mfloat\u001b[39m]]:\n\u001b[32m     65\u001b[39m \u001b[38;5;250m    \u001b[39m\u001b[33;03m\"\"\"\u001b[39;00m\n\u001b[32m     66\u001b[39m \u001b[33;03m    Algorithme 3: timeRefinement du paper TWO-STEP-LTT\u001b[39;00m\n\u001b[32m     67\u001b[39m \u001b[33;03m    \u001b[39;00m\n\u001b[32m   (...)\u001b[39m\u001b[32m     78\u001b[39m \u001b[33;03m        Dictionnaire {nœud: fonction gi(t)} des temps d'arrivée\u001b[39;00m\n\u001b[32m     79\u001b[39m \u001b[33;03m    \"\"\"\u001b[39;00m\n\u001b[32m     80\u001b[39m     ts, te = time_interval\n",
      "\u001b[31mNameError\u001b[39m: name 'Callable' is not defined"
     ]
    }
   ],
   "source": [
    "from app.main_application import MainApplication\n",
    "from app.models.provider import Provider\n",
    "\n",
    "# Créer les fournisseurs\n",
    "fournisseurs = [\n",
    "    Provider(name=\"Fournisseur 1\", location=i2, available_quantity=100),\n",
    "    Provider(name=\"Fournisseur 2\", location=i10, available_quantity=150)\n",
    "]\n",
    "\n",
    "# Lancer l'application\n",
    "app = MainApplication(\n",
    "    providers=fournisseurs,\n",
    "    location=i10,\n",
    "    map=graph,\n",
    "    requested_quantity=80,\n",
    "    time_window=(0, 6)  # Horaires de travail\n",
    ")\n",
    "\n",
    "app.execute(top=3)  # Afficher les 3 meilleurs fournisseurs"
   ]
  }
 ],
 "metadata": {
  "kernelspec": {
   "display_name": "Python 3",
   "language": "python",
   "name": "python3"
  },
  "language_info": {
   "codemirror_mode": {
    "name": "ipython",
    "version": 3
   },
   "file_extension": ".py",
   "mimetype": "text/x-python",
   "name": "python",
   "nbconvert_exporter": "python",
   "pygments_lexer": "ipython3",
   "version": "3.11.0"
  }
 },
 "nbformat": 4,
 "nbformat_minor": 5
}
